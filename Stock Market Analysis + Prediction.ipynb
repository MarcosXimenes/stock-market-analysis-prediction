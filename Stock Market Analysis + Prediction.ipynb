{
 "cells": [
  {
   "cell_type": "markdown",
   "id": "502cf0e1-43a3-4ab9-83ba-f569799b70cd",
   "metadata": {},
   "source": [
    "## Instalação de Pacotes"
   ]
  },
  {
   "cell_type": "raw",
   "id": "36144be1-6793-4b07-90cf-0ea759096678",
   "metadata": {
    "jupyter": {
     "outputs_hidden": true
    },
    "tags": []
   },
   "source": [
    "!pip install -q hvplot\n",
    "!pip install pandas\n",
    "!pip install pandas-datareader\n",
    "!pip install yfinance\n",
    "!pip install fix_yahoo_finance\n",
    "!pip install matplotlib\n",
    "!pip install seaborn\n",
    "!pip install tqdm\n",
    "!pip install ipywidgets --user"
   ]
  },
  {
   "cell_type": "markdown",
   "id": "9cc27c66-43e1-4a60-ba14-faaf1c7bfbc3",
   "metadata": {},
   "source": [
    "## Importação de Bibliotecas e Funções"
   ]
  },
  {
   "cell_type": "code",
   "execution_count": null,
   "id": "c6dedb3d-ea2e-4b1f-883a-53c21de213e3",
   "metadata": {
    "tags": []
   },
   "outputs": [],
   "source": [
    "from tqdm.notebook import tqdm\n",
    "import pandas as pd\n",
    "import numpy as np\n",
    "import math\n",
    "import sys\n",
    "\n",
    "import matplotlib.pyplot as plt\n",
    "import seaborn as sns\n",
    "\n",
    "# Efetuar leituras do Yahoo Finance\n",
    "from pandas_datareader.data import DataReader\n",
    "import yfinance as yf\n",
    "\n",
    "# Para as Datas das Ações\n",
    "from datetime import datetime\n",
    "\n",
    "yf.pdr_override()\n",
    "\n",
    "sns.set_style(\"whitegrid\")\n",
    "plt.style.use(\"fivethirtyeight\")\n",
    "%matplotlib inline"
   ]
  },
  {
   "cell_type": "code",
   "execution_count": null,
   "id": "02755636-5093-4b8a-beb7-cefa401cb6f2",
   "metadata": {
    "tags": []
   },
   "outputs": [],
   "source": [
    "def str_to_class(classname):\n",
    "    return getattr(sys.modules[__name__], classname)\n",
    "\n",
    "\n",
    "def stock_dicts(stocks_list, start, end):\n",
    "    company_dicts = []\n",
    "    company_list = []\n",
    "    dataframes = []\n",
    "\n",
    "    for company, stock in tqdm(stocks_list.items()):\n",
    "        if \"-\" in stock:\n",
    "            stock_name = stock.replace(\"-\", \"_\")\n",
    "        else:\n",
    "            stock_name = stock\n",
    "        globals()[stock_name] = yf.download(stock, start, end, progress=False)\n",
    "        company_list.append(company)\n",
    "        company_dicts.append(stock_name)\n",
    "\n",
    "    for company_dict, company_name in zip(company_dicts, company_list):\n",
    "        data = str_to_class(company_dict)\n",
    "        data[\"company_name\"] = company_name\n",
    "        dataframes.append(data)\n",
    "    df = pd.concat(dataframes, axis=0)\n",
    "\n",
    "    return df, company_list, company_dicts\n",
    "\n",
    "\n",
    "def fechamento_ano(stock_list):\n",
    "    _, _, company_dicts = stock_dicts(\n",
    "        stock_list,\n",
    "        datetime(\n",
    "            (datetime.now()).year - 1, (datetime.now()).month, (datetime.now()).day\n",
    "        ),\n",
    "        datetime.now(),\n",
    "    )\n",
    "\n",
    "    plt.figure(constrained_layout=True, figsize=(30, 10))\n",
    "    i = 1\n",
    "\n",
    "    for company_dict in company_dicts:\n",
    "        if len(company_dicts) >= 4:\n",
    "            plt.subplot(\n",
    "                math.floor((len(company_dicts) / 2)),\n",
    "                math.ceil((len(company_dicts) / 2)),\n",
    "                i,\n",
    "            )\n",
    "        elif len(company_dicts) == 3:\n",
    "            plt.subplot(2, 2, i)\n",
    "        elif len(company_dicts) == 2:\n",
    "            plt.subplot(2, 1, i)\n",
    "        elif len(company_dicts) == 1:\n",
    "            plt.subplot(1, 1, i)\n",
    "        data = str_to_class(company_dict)\n",
    "        data[\"Adj Close\"].plot()\n",
    "        plt.ylabel(\"Adj Close\")\n",
    "        plt.title(f\"Preço de Fechamento de \" + list(stocks_list.values())[i - 1])\n",
    "        i = i + 1\n",
    "\n",
    "\n",
    "def moving_average(stocks_list, days_list, start, end):\n",
    "    _, company_list, company_dicts = stock_dicts(stocks_list, start, end)\n",
    "\n",
    "    for days in days_list:\n",
    "        for company_dict in company_dicts:\n",
    "            column_name = f\"Média Móvel de {days} dias\"\n",
    "            data = str_to_class(company_dict)\n",
    "            data[column_name] = data[\"Adj Close\"].rolling(days).mean()\n",
    "\n",
    "    rotulos = [\"Adj Close\"]\n",
    "    for days in days_list:\n",
    "        rotulos.append(\"Média Móvel de \" + str(days) + \" dias\")\n",
    "\n",
    "    plt.figure(constrained_layout=True, figsize=(30, 20))\n",
    "\n",
    "    i = 1\n",
    "    for company_dict, company_name in zip(company_dicts, company_list):\n",
    "        plt.subplot(\n",
    "            math.floor((len(company_dicts) / 2)), math.ceil((len(company_dicts) / 2)), i\n",
    "        )\n",
    "        for rotulo in rotulos:\n",
    "            data = str_to_class(company_dict)\n",
    "            data[rotulo].plot()\n",
    "        plt.title(company_name)\n",
    "        plt.legend(rotulos)\n",
    "        plt.legend(loc=\"upper left\")\n",
    "        i = i + 1\n",
    "\n",
    "\n",
    "def daily_return(stocks_list, start, end, bar=True, lines=False):\n",
    "    plt.figure(constrained_layout=True, figsize=(30, 15))\n",
    "\n",
    "    _, company_list, company_dicts = stock_dicts(stocks_list, start, end)\n",
    "\n",
    "    for company_dict in company_dicts:\n",
    "        data = str_to_class(company_dict)\n",
    "        data[\"Daily Return\"] = data[\"Adj Close\"].pct_change()\n",
    "\n",
    "    i = 1\n",
    "\n",
    "    if lines:\n",
    "        for company_dict, company_name in zip(company_dicts, company_list):\n",
    "            plt.subplot(\n",
    "                math.floor((len(company_dicts) / 2)),\n",
    "                math.ceil((len(company_dicts) / 2)),\n",
    "                i,\n",
    "            )\n",
    "            plt.title(company_name)\n",
    "            data = str_to_class(company_dict)\n",
    "            data[\"Daily Return\"].plot(legend=True)\n",
    "            plt.legend(loc=\"upper left\")\n",
    "            i = i + 1\n",
    "    elif bar:\n",
    "        for company_dict, company_name in zip(company_dicts, company_list):\n",
    "            plt.subplot(\n",
    "                math.floor((len(company_dicts) / 2)),\n",
    "                math.ceil((len(company_dicts) / 2)),\n",
    "                i,\n",
    "            )\n",
    "            plt.title(company_name)\n",
    "            data = str_to_class(company_dict)\n",
    "            data[\"Daily Return\"].hist(legend=True)\n",
    "            plt.legend(loc=\"upper left\")\n",
    "            i = i + 1\n",
    "\n",
    "\n",
    "def correlation(stocks_list, start, end, mix_viz=True, heatmap=False):\n",
    "    # Fazer um DataFrame apenas com os Preços de Fechamento das Empresas\n",
    "    df_closedmarket = DataReader(list(stocks_list.values()), \"yahoo\", start, end)[\n",
    "        \"Adj Close\"\n",
    "    ]\n",
    "    # Retorno Diário de Todas as Ações\n",
    "    daily_return = df_closedmarket.pct_change()\n",
    "\n",
    "    if mix_viz:\n",
    "        # Definir a figura chamando a função PairGrid com o Dataframe:\n",
    "        other_graphics = sns.PairGrid(daily_return.dropna())\n",
    "        # Com map_upper(), define-se o que estará no triângulo de cima do gráfico:\n",
    "        other_graphics.map_upper(plt.scatter, color=\"purple\")\n",
    "        # Com map_lower(), define-se o que estará no triângulo de baixo do gráfico:\n",
    "        other_graphics.map_lower(sns.kdeplot, cmap=\"cool_d\")\n",
    "        # Por fim, a diagonal central, onde permanecerão os histogramas:\n",
    "        other_graphics.map_diag(plt.hist, bins=30)\n",
    "    elif heatmap:\n",
    "        # Incluindo Tabela de Correlação\n",
    "        sns.heatmap(daily_return.corr(), annot=True, cmap=\"summer\")\n",
    "    else:\n",
    "        sns.pairplot(daily_return, kind=\"reg\")\n",
    "\n",
    "\n",
    "def risk(stocks_list, start, end):\n",
    "    # Fazer um DataFrame apenas com os Preços de Fechamento das Empresas\n",
    "    df_closedmarket = DataReader(list(stocks_list.values()), \"yahoo\", start, end)[\n",
    "        \"Adj Close\"\n",
    "    ]\n",
    "    # Retorno Diário de Todas as Ações\n",
    "    daily_return = df_closedmarket.pct_change()\n",
    "\n",
    "    daily_return_withoutnan = daily_return.dropna()\n",
    "\n",
    "    area = np.pi * 20\n",
    "\n",
    "    plt.figure(figsize=(10, 7))\n",
    "    plt.scatter(daily_return_withoutnan.mean(), daily_return_withoutnan.std(), s=area)\n",
    "    plt.xlabel(\"Retorno Esperado\")\n",
    "    plt.ylabel(\"Risco\")\n",
    "\n",
    "    for label, x, y in zip(\n",
    "        daily_return_withoutnan.columns,\n",
    "        daily_return_withoutnan.mean(),\n",
    "        daily_return_withoutnan.std(),\n",
    "    ):\n",
    "        plt.annotate(\n",
    "            label,\n",
    "            xy=(x, y),\n",
    "            xytext=(50, 50),\n",
    "            textcoords=\"offset points\",\n",
    "            ha=\"right\",\n",
    "            va=\"bottom\",\n",
    "            arrowprops=dict(\n",
    "                arrowstyle=\"-\", color=\"blue\", connectionstyle=\"arc3,rad=-0.3\"\n",
    "            ),\n",
    "        )"
   ]
  },
  {
   "cell_type": "markdown",
   "id": "ba3b573c-bd96-4a21-be79-3ea2085f59c2",
   "metadata": {},
   "source": [
    "## Configuração de Parâmetros"
   ]
  },
  {
   "cell_type": "code",
   "execution_count": null,
   "id": "7edc5ab1-accb-4c59-955a-55d3895701b4",
   "metadata": {},
   "outputs": [],
   "source": [
    "# Dias para Média Móvel:\n",
    "days_list = [10, 20, 50]\n",
    "\n",
    "# Ações a se explorar:\n",
    "stocks_list = {\n",
    "    \"APPLE\": \"AAPL\",\n",
    "    \"MICROSOFT\": \"MSFT\",\n",
    "    \"BOEING\": \"BA\",\n",
    "    \"AMERICAN AIRLINES\": \"AAL\",\n",
    "}\n",
    "\n",
    "# Período de Análise da Ação:\n",
    "end = datetime.now()\n",
    "start = datetime(end.year - 1, end.month, end.day)"
   ]
  },
  {
   "cell_type": "markdown",
   "id": "9bed724a-c225-43bb-9234-f8bd0483a37e",
   "metadata": {},
   "source": [
    "## Gráficos com Preço de Fechamento ao Longo do Ano Recorrente"
   ]
  },
  {
   "cell_type": "code",
   "execution_count": null,
   "id": "1220242c-1bf1-49ee-9066-842ef5e9e400",
   "metadata": {},
   "outputs": [],
   "source": [
    "fechamento_ano(stocks_list)"
   ]
  },
  {
   "cell_type": "markdown",
   "id": "c3c41161-f888-4a69-9d12-874fa2e17268",
   "metadata": {
    "tags": []
   },
   "source": [
    "## Gráficos com Média Móvel (Moving Average) por Ação"
   ]
  },
  {
   "cell_type": "code",
   "execution_count": null,
   "id": "99a64ccc-88d4-4212-a7a3-83740d77548e",
   "metadata": {
    "tags": []
   },
   "outputs": [],
   "source": [
    "moving_average(stocks_list, days_list, start, end)"
   ]
  },
  {
   "cell_type": "markdown",
   "id": "3dd374f7-791b-494e-8798-4df703ee5ebe",
   "metadata": {
    "tags": []
   },
   "source": [
    "## Gráficos com média de Retorno Diário por Ação"
   ]
  },
  {
   "cell_type": "code",
   "execution_count": null,
   "id": "38aa70a9-2f9f-4194-8a6d-fbe1c2ffc898",
   "metadata": {},
   "outputs": [],
   "source": [
    "daily_return(stocks_list, start, end, bar=True)"
   ]
  },
  {
   "cell_type": "markdown",
   "id": "b7abb781-2d2f-411e-9da2-d7a8b406b8fa",
   "metadata": {},
   "source": [
    "## Gráficos com correlação entre os Preços de Fechamento de todas as Ações"
   ]
  },
  {
   "cell_type": "code",
   "execution_count": null,
   "id": "2b58aa9d-b73d-48ab-9b7c-70c86774e3f9",
   "metadata": {
    "tags": []
   },
   "outputs": [],
   "source": [
    "correlation(stocks_list, start, end)"
   ]
  },
  {
   "cell_type": "markdown",
   "id": "36303c31-42c2-4ad8-b626-7e86a195104c",
   "metadata": {},
   "source": [
    "## Risco de Investir em uma Ação"
   ]
  },
  {
   "cell_type": "code",
   "execution_count": null,
   "id": "4dcb367d-4262-4f15-b628-7397c2d4096b",
   "metadata": {},
   "outputs": [],
   "source": [
    "risk(stocks_list, start, end)"
   ]
  },
  {
   "cell_type": "markdown",
   "id": "ac2bf10c-6bd0-4b83-8558-4cee3ea196b9",
   "metadata": {},
   "source": [
    "## Previsão do Preço de Fechamento de uma Ação"
   ]
  },
  {
   "cell_type": "raw",
   "id": "87cdf5bf-1095-4d42-87b1-cc175f7173a4",
   "metadata": {
    "jupyter": {
     "source_hidden": true
    },
    "tags": []
   },
   "source": [
    "def predict_stock(stock_name, start, end):\n",
    "    df = DataReader(stock_name, start, end, data_source='yahoo', progress = False)\n",
    "    \n",
    "    # Criar novo dataframe apenas com o Preço de Fechamento\n",
    "    data = df.filter(['Close'])\n",
    "    # Converter em uma array do NumPy\n",
    "    dataset = data.values\n",
    "    # Pegar o tamanho do Dataframe e definir % de dados para Treinamento\n",
    "    training_percentage = 0.95\n",
    "    training_data_len = int(np.ceil(len(dataset)*training_percentage))\n",
    "    # Normalizar os Dados\n",
    "    scaler = MinMaxScaler(feature_range=(0,1))\n",
    "    scaled_data = scaler.fit_transform(dataset)\n",
    "    \n",
    "    # Criar dataset de Treinamento\n",
    "    train_data = scaled_data[0:int(training_data_len), :]\n",
    "    # Converter para x_train e y_train\n",
    "    x_train = []\n",
    "    y_train = []\n",
    "\n",
    "    for i in range(60, len(train_data)):\n",
    "        x_train.append(train_data[i-60:i, 0])\n",
    "        y_train.append(train_data[i, 0])\n",
    "\n",
    "    # Converter para arrays do NumPy\n",
    "    x_train, y_train = np.array(x_train), np.array(y_train)\n",
    "\n",
    "    # Formatar os dados\n",
    "    x_train = np.reshape(x_train, (x_train.shape[0], x_train.shape[1], 1))\n",
    "    \n",
    "    # Criar o Modelo LSTM\n",
    "    model = Sequential()\n",
    "    model.add(LSTM(128, return_sequences=True, input_shape= (x_train.shape[1], 1)))\n",
    "    model.add(LSTM(64, return_sequences=False))\n",
    "    model.add(Dense(25))\n",
    "    model.add(Dense(1))\n",
    "\n",
    "    # Compilar o Modelo\n",
    "    model.compile(optimizer='adam', loss='mean_squared_error')\n",
    "\n",
    "    # Treinar o Modelo\n",
    "    model.fit(x_train, y_train, batch_size=1, epochs=1)\n",
    "    \n",
    "    # Criar dataset para Testes\n",
    "    test_data = scaled_data[training_data_len - 60: , :]\n",
    "    # Converter para x_test e y_test\n",
    "    x_test = []\n",
    "    y_test = dataset[training_data_len:, :]\n",
    "\n",
    "    for i in range(60, len(test_data)):\n",
    "        x_test.append(test_data[i-60:i, 0])\n",
    "\n",
    "    # Converter para arrays do NumPy\n",
    "    x_test = np.array(x_test)\n",
    "\n",
    "    # Formatar os dados\n",
    "    x_test = np.reshape(x_test, (x_test.shape[0], x_test.shape[1], 1 ))\n",
    "\n",
    "    # Obter os Valores Previsionados pelo Modelo\n",
    "    predictions = model.predict(x_test)\n",
    "    predictions = scaler.inverse_transform(predictions)\n",
    "\n",
    "    # Obter o erro Raiz quadrada do erro-médio (RMSE)\n",
    "    rmse = np.sqrt(np.mean(((predictions - y_test) ** 2)))\n",
    "    print(\"Erro médio: \", rmse)\n",
    "    \n",
    "    # Plot the data\n",
    "    train = data[:training_data_len]\n",
    "    valid = data[training_data_len:]\n",
    "    valid['Predictions'] = predictions\n",
    "    \n",
    "    # Visualize the data\n",
    "    plt.figure(figsize=(16,6))\n",
    "    plt.title('Modelo de Predição de Preço de Fechamento')\n",
    "    plt.xlabel('Data', fontsize=18)\n",
    "    plt.ylabel('Preço em USD ($)', fontsize=18)\n",
    "    plt.plot(train['Close'])\n",
    "    plt.plot(valid[['Close', 'Predictions']])\n",
    "    plt.legend(['Treinamento', 'Validação', 'Predição'], loc='upper left')\n",
    "    plt.show()\n",
    "    \n",
    "    return valid"
   ]
  }
 ],
 "metadata": {
  "environment": {
   "kernel": "python3",
   "name": "common-cpu.m90",
   "type": "gcloud",
   "uri": "gcr.io/deeplearning-platform-release/base-cpu:m90"
  },
  "kernelspec": {
   "display_name": "Python 3.8.0 64-bit",
   "language": "python",
   "name": "python3"
  },
  "language_info": {
   "codemirror_mode": {
    "name": "ipython",
    "version": 3
   },
   "file_extension": ".py",
   "mimetype": "text/x-python",
   "name": "python",
   "nbconvert_exporter": "python",
   "pygments_lexer": "ipython3",
   "version": "3.8.0"
  },
  "vscode": {
   "interpreter": {
    "hash": "d42b36e91883c158bbf9912f1619094efb5f8f8e463740d823494e9ad9746f31"
   }
  }
 },
 "nbformat": 4,
 "nbformat_minor": 5
}
